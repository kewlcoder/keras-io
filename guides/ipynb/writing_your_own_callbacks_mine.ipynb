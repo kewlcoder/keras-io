{
 "cells": [
  {
   "cell_type": "markdown",
   "metadata": {
    "colab_type": "text"
   },
   "source": [
    "# Writing your own callbacks\n",
    "\n",
    "**Authors:** Rick Chao, Francois Chollet<br>\n",
    "**Date created:** 2019/03/20<br>\n",
    "**Last modified:** 2020/07/12<br>\n",
    "**Description:** Complete guide to writing new Keras callbacks."
   ]
  },
  {
   "cell_type": "markdown",
   "metadata": {
    "colab_type": "text"
   },
   "source": [
    "## Introduction\n",
    "\n",
    "A callback is a powerful tool to customize the behavior of a Keras model during\n",
    "training, evaluation, or inference. Examples include `tf.keras.callbacks.TensorBoard`\n",
    "to visualize training progress and results with TensorBoard, or\n",
    "`tf.keras.callbacks.ModelCheckpoint` to periodically save your model during training.\n",
    "\n",
    "In this guide, you will learn what a Keras callback is, what it can do, and how you can\n",
    "build your own. We provide a few demos of simple callback applications to get you\n",
    "started."
   ]
  },
  {
   "cell_type": "markdown",
   "metadata": {
    "colab_type": "text"
   },
   "source": [
    "## Setup"
   ]
  },
  {
   "cell_type": "code",
   "execution_count": 1,
   "metadata": {
    "colab_type": "code"
   },
   "outputs": [],
   "source": [
    "import tensorflow as tf\n",
    "from tensorflow import keras"
   ]
  },
  {
   "cell_type": "markdown",
   "metadata": {
    "colab_type": "text"
   },
   "source": [
    "## Keras callbacks overview\n",
    "\n",
    "All callbacks subclass the `keras.callbacks.Callback` class, and\n",
    "override a set of methods called at various stages of training, testing, and\n",
    "predicting. Callbacks are useful to get a view on internal states and statistics of\n",
    "the model during training.\n",
    "\n",
    "You can pass a list of callbacks (as the keyword argument `callbacks`) to the following\n",
    "model methods:\n",
    "\n",
    "- `keras.Model.fit()`\n",
    "- `keras.Model.evaluate()`\n",
    "- `keras.Model.predict()`"
   ]
  },
  {
   "cell_type": "markdown",
   "metadata": {
    "colab_type": "text"
   },
   "source": [
    "## An overview of callback methods\n",
    "\n",
    "### Global methods\n",
    "\n",
    "#### `on_(train|test|predict)_begin(self, logs=None)`\n",
    "\n",
    "Called at the beginning of `fit`/`evaluate`/`predict`.\n",
    "\n",
    "#### `on_(train|test|predict)_end(self, logs=None)`\n",
    "\n",
    "Called at the end of `fit`/`evaluate`/`predict`.\n",
    "\n",
    "### Batch-level methods for training/testing/predicting\n",
    "\n",
    "#### `on_(train|test|predict)_batch_begin(self, batch, logs=None)`\n",
    "\n",
    "Called right before processing a batch during training/testing/predicting.\n",
    "\n",
    "#### `on_(train|test|predict)_batch_end(self, batch, logs=None)`\n",
    "\n",
    "Called at the end of training/testing/predicting a batch. Within this method, `logs` is\n",
    "a dict containing the metrics results.\n",
    "\n",
    "### Epoch-level methods (training only)\n",
    "\n",
    "#### `on_epoch_begin(self, epoch, logs=None)`\n",
    "\n",
    "Called at the beginning of an epoch during training.\n",
    "\n",
    "#### `on_epoch_end(self, epoch, logs=None)`\n",
    "\n",
    "Called at the end of an epoch during training."
   ]
  },
  {
   "cell_type": "markdown",
   "metadata": {
    "colab_type": "text"
   },
   "source": [
    "## A basic example\n",
    "\n",
    "Let's take a look at a concrete example. To get started, let's import tensorflow and\n",
    "define a simple Sequential Keras model:"
   ]
  },
  {
   "cell_type": "code",
   "execution_count": 2,
   "metadata": {
    "colab_type": "code"
   },
   "outputs": [],
   "source": [
    "# Define the Keras model to add callbacks to\n",
    "def get_model():\n",
    "    model = keras.Sequential()\n",
    "    model.add(keras.layers.Dense(1, input_dim=784))\n",
    "    model.compile(\n",
    "        optimizer=keras.optimizers.RMSprop(learning_rate=0.1),\n",
    "        loss=\"mean_squared_error\",\n",
    "        metrics=[\"mean_absolute_error\"],\n",
    "    )\n",
    "    return model\n"
   ]
  },
  {
   "cell_type": "markdown",
   "metadata": {
    "colab_type": "text"
   },
   "source": [
    "Then, load the MNIST data for training and testing from Keras datasets API:"
   ]
  },
  {
   "cell_type": "code",
   "execution_count": 3,
   "metadata": {
    "colab_type": "code"
   },
   "outputs": [],
   "source": [
    "# Load example MNIST data and pre-process it\n",
    "(x_train, y_train), (x_test, y_test) = tf.keras.datasets.mnist.load_data()\n",
    "x_train = x_train.reshape(-1, 784).astype(\"float32\") / 255.0\n",
    "x_test = x_test.reshape(-1, 784).astype(\"float32\") / 255.0\n",
    "\n",
    "# Limit the data to 1000 samples\n",
    "x_train = x_train[:1000]\n",
    "y_train = y_train[:1000]\n",
    "x_test = x_test[:1000]\n",
    "y_test = y_test[:1000]"
   ]
  },
  {
   "cell_type": "markdown",
   "metadata": {
    "colab_type": "text"
   },
   "source": [
    "Now, define a simple custom callback that logs:\n",
    "\n",
    "- When `fit`/`evaluate`/`predict` starts & ends\n",
    "- When each epoch starts & ends\n",
    "- When each training batch starts & ends\n",
    "- When each evaluation (test) batch starts & ends\n",
    "- When each inference (prediction) batch starts & ends"
   ]
  },
  {
   "cell_type": "code",
   "execution_count": 4,
   "metadata": {
    "colab_type": "code"
   },
   "outputs": [],
   "source": [
    "\n",
    "class CustomCallback(keras.callbacks.Callback):\n",
    "    def on_train_begin(self, logs=None):\n",
    "        keys = list(logs.keys())\n",
    "        print(\"Starting training; got log keys: {}\".format(keys))\n",
    "\n",
    "    def on_train_end(self, logs=None):\n",
    "        keys = list(logs.keys())\n",
    "        print(\"Stop training; got log keys: {}\".format(keys))\n",
    "\n",
    "    def on_epoch_begin(self, epoch, logs=None):\n",
    "        keys = list(logs.keys())\n",
    "        print(\"Start epoch {} of training; got log keys: {}\".format(epoch, keys))\n",
    "\n",
    "    def on_epoch_end(self, epoch, logs=None):\n",
    "        keys = list(logs.keys())\n",
    "        print(\"End epoch {} of training; got log keys: {}\".format(epoch, keys))\n",
    "\n",
    "    def on_test_begin(self, logs=None):\n",
    "        keys = list(logs.keys())\n",
    "        print(\"Start testing; got log keys: {}\".format(keys))\n",
    "\n",
    "    def on_test_end(self, logs=None):\n",
    "        keys = list(logs.keys())\n",
    "        print(\"Stop testing; got log keys: {}\".format(keys))\n",
    "\n",
    "    def on_predict_begin(self, logs=None):\n",
    "        keys = list(logs.keys())\n",
    "        print(\"Start predicting; got log keys: {}\".format(keys))\n",
    "\n",
    "    def on_predict_end(self, logs=None):\n",
    "        keys = list(logs.keys())\n",
    "        print(\"Stop predicting; got log keys: {}\".format(keys))\n",
    "\n",
    "    def on_train_batch_begin(self, batch, logs=None):\n",
    "        keys = list(logs.keys())\n",
    "        print(\"...Training: start of batch {}; got log keys: {}\".format(batch, keys))\n",
    "\n",
    "    def on_train_batch_end(self, batch, logs=None):\n",
    "        keys = list(logs.keys())\n",
    "        print(\"...Training: end of batch {}; got log keys: {}\".format(batch, keys))\n",
    "\n",
    "    def on_test_batch_begin(self, batch, logs=None):\n",
    "        keys = list(logs.keys())\n",
    "        print(\"...Evaluating: start of batch {}; got log keys: {}\".format(batch, keys))\n",
    "\n",
    "    def on_test_batch_end(self, batch, logs=None):\n",
    "        keys = list(logs.keys())\n",
    "        print(\"...Evaluating: end of batch {}; got log keys: {}\".format(batch, keys))\n",
    "\n",
    "    def on_predict_batch_begin(self, batch, logs=None):\n",
    "        keys = list(logs.keys())\n",
    "        print(\"...Predicting: start of batch {}; got log keys: {}\".format(batch, keys))\n",
    "\n",
    "    def on_predict_batch_end(self, batch, logs=None):\n",
    "        keys = list(logs.keys())\n",
    "        print(\"...Predicting: end of batch {}; got log keys: {}\".format(batch, keys))\n"
   ]
  },
  {
   "cell_type": "markdown",
   "metadata": {
    "colab_type": "text"
   },
   "source": [
    "Let's try it out:"
   ]
  },
  {
   "cell_type": "code",
   "execution_count": 5,
   "metadata": {
    "colab_type": "code"
   },
   "outputs": [
    {
     "name": "stdout",
     "output_type": "stream",
     "text": [
      "Starting training; got log keys: []\n",
      "Start epoch 0 of training; got log keys: []\n",
      "...Training: start of batch 0; got log keys: []\n",
      "...Training: end of batch 0; got log keys: ['loss', 'mean_absolute_error']\n",
      "...Training: start of batch 1; got log keys: []\n",
      "...Training: end of batch 1; got log keys: ['loss', 'mean_absolute_error']\n",
      "...Training: start of batch 2; got log keys: []\n",
      "...Training: end of batch 2; got log keys: ['loss', 'mean_absolute_error']\n",
      "...Training: start of batch 3; got log keys: []\n",
      "...Training: end of batch 3; got log keys: ['loss', 'mean_absolute_error']\n",
      "Start testing; got log keys: []\n",
      "...Evaluating: start of batch 0; got log keys: []\n",
      "...Evaluating: end of batch 0; got log keys: ['loss', 'mean_absolute_error']\n",
      "...Evaluating: start of batch 1; got log keys: []\n",
      "...Evaluating: end of batch 1; got log keys: ['loss', 'mean_absolute_error']\n",
      "...Evaluating: start of batch 2; got log keys: []\n",
      "...Evaluating: end of batch 2; got log keys: ['loss', 'mean_absolute_error']\n",
      "...Evaluating: start of batch 3; got log keys: []\n",
      "...Evaluating: end of batch 3; got log keys: ['loss', 'mean_absolute_error']\n",
      "Stop testing; got log keys: ['loss', 'mean_absolute_error']\n",
      "End epoch 0 of training; got log keys: ['loss', 'mean_absolute_error', 'val_loss', 'val_mean_absolute_error']\n",
      "Stop training; got log keys: ['loss', 'mean_absolute_error', 'val_loss', 'val_mean_absolute_error']\n",
      "Start testing; got log keys: []\n",
      "...Evaluating: start of batch 0; got log keys: []\n",
      "...Evaluating: end of batch 0; got log keys: ['loss', 'mean_absolute_error']\n",
      "...Evaluating: start of batch 1; got log keys: []\n",
      "...Evaluating: end of batch 1; got log keys: ['loss', 'mean_absolute_error']\n",
      "...Evaluating: start of batch 2; got log keys: []\n",
      "...Evaluating: end of batch 2; got log keys: ['loss', 'mean_absolute_error']\n",
      "...Evaluating: start of batch 3; got log keys: []\n",
      "...Evaluating: end of batch 3; got log keys: ['loss', 'mean_absolute_error']\n",
      "...Evaluating: start of batch 4; got log keys: []\n",
      "...Evaluating: end of batch 4; got log keys: ['loss', 'mean_absolute_error']\n",
      "...Evaluating: start of batch 5; got log keys: []\n",
      "...Evaluating: end of batch 5; got log keys: ['loss', 'mean_absolute_error']\n",
      "...Evaluating: start of batch 6; got log keys: []\n",
      "...Evaluating: end of batch 6; got log keys: ['loss', 'mean_absolute_error']\n",
      "...Evaluating: start of batch 7; got log keys: []\n",
      "...Evaluating: end of batch 7; got log keys: ['loss', 'mean_absolute_error']\n",
      "Stop testing; got log keys: ['loss', 'mean_absolute_error']\n",
      "Start predicting; got log keys: []\n",
      "...Predicting: start of batch 0; got log keys: []\n",
      "...Predicting: end of batch 0; got log keys: ['outputs']\n",
      "...Predicting: start of batch 1; got log keys: []\n",
      "...Predicting: end of batch 1; got log keys: ['outputs']\n",
      "...Predicting: start of batch 2; got log keys: []\n",
      "...Predicting: end of batch 2; got log keys: ['outputs']\n",
      "...Predicting: start of batch 3; got log keys: []\n",
      "...Predicting: end of batch 3; got log keys: ['outputs']\n",
      "...Predicting: start of batch 4; got log keys: []\n",
      "...Predicting: end of batch 4; got log keys: ['outputs']\n",
      "...Predicting: start of batch 5; got log keys: []\n",
      "...Predicting: end of batch 5; got log keys: ['outputs']\n",
      "...Predicting: start of batch 6; got log keys: []\n",
      "...Predicting: end of batch 6; got log keys: ['outputs']\n",
      "...Predicting: start of batch 7; got log keys: []\n",
      "...Predicting: end of batch 7; got log keys: ['outputs']\n",
      "Stop predicting; got log keys: []\n"
     ]
    }
   ],
   "source": [
    "model = get_model()\n",
    "model.fit(\n",
    "    x_train,\n",
    "    y_train,\n",
    "    batch_size=128,\n",
    "    epochs=1,\n",
    "    verbose=0,\n",
    "    validation_split=0.5,\n",
    "    callbacks=[CustomCallback()],\n",
    ")\n",
    "\n",
    "res = model.evaluate(\n",
    "    x_test, y_test, batch_size=128, verbose=0, callbacks=[CustomCallback()]\n",
    ")\n",
    "\n",
    "res = model.predict(x_test, batch_size=128, callbacks=[CustomCallback()])"
   ]
  },
  {
   "cell_type": "markdown",
   "metadata": {
    "colab_type": "text"
   },
   "source": [
    "### Usage of `logs` dict\n",
    "The `logs` dict contains the loss value, and all the metrics at the end of a batch or\n",
    "epoch. Example includes the loss and mean absolute error."
   ]
  },
  {
   "cell_type": "code",
   "execution_count": 6,
   "metadata": {
    "colab_type": "code"
   },
   "outputs": [
    {
     "name": "stdout",
     "output_type": "stream",
     "text": [
      "Up to batch 0, the average loss is   29.31.\n",
      "Up to batch 1, the average loss is  512.64.\n",
      "Up to batch 2, the average loss is  350.57.\n",
      "Up to batch 3, the average loss is  265.43.\n",
      "Up to batch 4, the average loss is  213.89.\n",
      "Up to batch 5, the average loss is  179.16.\n",
      "Up to batch 6, the average loss is  154.27.\n",
      "Up to batch 7, the average loss is  138.75.\n",
      "The average loss for epoch 0 is  138.75 and mean absolute error is    6.25.\n",
      "Up to batch 0, the average loss is    4.18.\n",
      "Up to batch 1, the average loss is    3.92.\n",
      "Up to batch 2, the average loss is    4.18.\n",
      "Up to batch 3, the average loss is    4.45.\n",
      "Up to batch 4, the average loss is    4.64.\n",
      "Up to batch 5, the average loss is    4.51.\n",
      "Up to batch 6, the average loss is    4.40.\n",
      "Up to batch 7, the average loss is    4.38.\n",
      "The average loss for epoch 1 is    4.38 and mean absolute error is    1.68.\n",
      "Up to batch 0, the average loss is    4.69.\n",
      "Up to batch 1, the average loss is    4.15.\n",
      "Up to batch 2, the average loss is    4.21.\n",
      "Up to batch 3, the average loss is    4.19.\n",
      "Up to batch 4, the average loss is    4.38.\n",
      "Up to batch 5, the average loss is    4.39.\n",
      "Up to batch 6, the average loss is    4.35.\n",
      "Up to batch 7, the average loss is    4.30.\n"
     ]
    }
   ],
   "source": [
    "\n",
    "class LossAndErrorPrintingCallback(keras.callbacks.Callback):\n",
    "    def on_train_batch_end(self, batch, logs=None):\n",
    "        print(\n",
    "            \"Up to batch {}, the average loss is {:7.2f}.\".format(batch, logs[\"loss\"])\n",
    "        )\n",
    "\n",
    "    def on_test_batch_end(self, batch, logs=None):\n",
    "        print(\n",
    "            \"Up to batch {}, the average loss is {:7.2f}.\".format(batch, logs[\"loss\"])\n",
    "        )\n",
    "\n",
    "    def on_epoch_end(self, epoch, logs=None):\n",
    "        print(\n",
    "            \"The average loss for epoch {} is {:7.2f} \"\n",
    "            \"and mean absolute error is {:7.2f}.\".format(\n",
    "                epoch, logs[\"loss\"], logs[\"mean_absolute_error\"]\n",
    "            )\n",
    "        )\n",
    "\n",
    "\n",
    "model = get_model()\n",
    "model.fit(\n",
    "    x_train,\n",
    "    y_train,\n",
    "    batch_size=128,\n",
    "    epochs=2,\n",
    "    verbose=0,\n",
    "    callbacks=[LossAndErrorPrintingCallback()],\n",
    ")\n",
    "\n",
    "res = model.evaluate(\n",
    "    x_test,\n",
    "    y_test,\n",
    "    batch_size=128,\n",
    "    verbose=0,\n",
    "    callbacks=[LossAndErrorPrintingCallback()],\n",
    ")"
   ]
  },
  {
   "cell_type": "markdown",
   "metadata": {
    "colab_type": "text"
   },
   "source": [
    "## Usage of `self.model` attribute\n",
    "\n",
    "In addition to receiving log information when one of their methods is called,\n",
    "callbacks have access to the model associated with the current round of\n",
    "training/evaluation/inference: `self.model`.\n",
    "\n",
    "Here are of few of the things you can do with `self.model` in a callback:\n",
    "\n",
    "- Set `self.model.stop_training = True` to immediately interrupt training.\n",
    "- Mutate hyperparameters of the optimizer (available as `self.model.optimizer`),\n",
    "such as `self.model.optimizer.learning_rate`.\n",
    "- Save the model at period intervals.\n",
    "- Record the output of `model.predict()` on a few test samples at the end of each\n",
    "epoch, to use as a sanity check during training.\n",
    "- Extract visualizations of intermediate features at the end of each epoch, to monitor\n",
    "what the model is learning over time.\n",
    "- etc.\n",
    "\n",
    "Let's see this in action in a couple of examples."
   ]
  },
  {
   "cell_type": "markdown",
   "metadata": {
    "colab_type": "text"
   },
   "source": [
    "## Examples of Keras callback applications"
   ]
  },
  {
   "cell_type": "markdown",
   "metadata": {
    "colab_type": "text"
   },
   "source": [
    "### Early stopping at minimum loss\n",
    "\n",
    "This first example shows the creation of a `Callback` that stops training when the\n",
    "minimum of loss has been reached, by setting the attribute `self.model.stop_training`\n",
    "(boolean). Optionally, you can provide an argument `patience` to specify how many\n",
    "epochs we should wait before stopping after having reached a local minimum.\n",
    "\n",
    "`tf.keras.callbacks.EarlyStopping` provides a more complete and general implementation."
   ]
  },
  {
   "cell_type": "code",
   "execution_count": 7,
   "metadata": {
    "colab_type": "code"
   },
   "outputs": [
    {
     "name": "stdout",
     "output_type": "stream",
     "text": [
      "Up to batch 0, the average loss is   30.77.\n",
      "Up to batch 1, the average loss is  404.93.\n",
      "Up to batch 2, the average loss is  279.35.\n",
      "Up to batch 3, the average loss is  212.39.\n",
      "Up to batch 4, the average loss is  171.63.\n",
      "The average loss for epoch 0 is  171.63 and mean absolute error is    8.15.\n",
      "Up to batch 0, the average loss is    7.50.\n",
      "Up to batch 1, the average loss is    7.42.\n",
      "Up to batch 2, the average loss is    6.51.\n",
      "Up to batch 3, the average loss is    5.84.\n",
      "Up to batch 4, the average loss is    5.81.\n",
      "The average loss for epoch 1 is    5.81 and mean absolute error is    1.95.\n",
      "Up to batch 0, the average loss is    4.37.\n",
      "Up to batch 1, the average loss is    4.28.\n",
      "Up to batch 2, the average loss is    4.92.\n",
      "Up to batch 3, the average loss is    5.16.\n",
      "Up to batch 4, the average loss is    4.85.\n",
      "The average loss for epoch 2 is    4.85 and mean absolute error is    1.72.\n",
      "Up to batch 0, the average loss is    5.56.\n",
      "Up to batch 1, the average loss is    5.47.\n",
      "Up to batch 2, the average loss is    6.74.\n",
      "Up to batch 3, the average loss is    8.29.\n",
      "Up to batch 4, the average loss is   12.65.\n",
      "The average loss for epoch 3 is   12.65 and mean absolute error is    2.83.\n",
      "Restoring model weights from the end of the best epoch.\n",
      "Epoch 00004: early stopping\n"
     ]
    },
    {
     "data": {
      "text/plain": [
       "<keras.callbacks.History at 0x7fdf161d7880>"
      ]
     },
     "execution_count": 7,
     "metadata": {},
     "output_type": "execute_result"
    }
   ],
   "source": [
    "import numpy as np\n",
    "\n",
    "\n",
    "class EarlyStoppingAtMinLoss(keras.callbacks.Callback):\n",
    "    \"\"\"Stop training when the loss is at its min, i.e. the loss stops decreasing.\n",
    "\n",
    "  Arguments:\n",
    "      patience: Number of epochs to wait after min has been hit. After this\n",
    "      number of no improvement, training stops.\n",
    "  \"\"\"\n",
    "\n",
    "    def __init__(self, patience=0):\n",
    "        super(EarlyStoppingAtMinLoss, self).__init__()\n",
    "        self.patience = patience\n",
    "        # best_weights to store the weights at which the minimum loss occurs.\n",
    "        self.best_weights = None\n",
    "\n",
    "    def on_train_begin(self, logs=None):\n",
    "        # The number of epoch it has waited when loss is no longer minimum.\n",
    "        self.wait = 0\n",
    "        # The epoch the training stops at.\n",
    "        self.stopped_epoch = 0\n",
    "        # Initialize the best as infinity.\n",
    "        self.best = np.Inf\n",
    "\n",
    "    def on_epoch_end(self, epoch, logs=None):\n",
    "        current = logs.get(\"loss\")\n",
    "        if np.less(current, self.best):\n",
    "            self.best = current\n",
    "            self.wait = 0\n",
    "            # Record the best weights if current results is better (less).\n",
    "            self.best_weights = self.model.get_weights()\n",
    "        else:\n",
    "            self.wait += 1\n",
    "            if self.wait >= self.patience:\n",
    "                self.stopped_epoch = epoch\n",
    "                self.model.stop_training = True\n",
    "                print(\"Restoring model weights from the end of the best epoch.\")\n",
    "                self.model.set_weights(self.best_weights)\n",
    "\n",
    "    def on_train_end(self, logs=None):\n",
    "        if self.stopped_epoch > 0:\n",
    "            print(\"Epoch %05d: early stopping\" % (self.stopped_epoch + 1))\n",
    "\n",
    "\n",
    "model = get_model()\n",
    "model.fit(\n",
    "    x_train,\n",
    "    y_train,\n",
    "    batch_size=64,\n",
    "    steps_per_epoch=5,\n",
    "    epochs=30,\n",
    "    verbose=0,\n",
    "    callbacks=[LossAndErrorPrintingCallback(), EarlyStoppingAtMinLoss()],\n",
    ")"
   ]
  },
  {
   "cell_type": "markdown",
   "metadata": {
    "colab_type": "text"
   },
   "source": [
    "### Learning rate scheduling\n",
    "\n",
    "In this example, we show how a custom Callback can be used to dynamically change the\n",
    "learning rate of the optimizer during the course of training.\n",
    "\n",
    "See `callbacks.LearningRateScheduler` for a more general implementations."
   ]
  },
  {
   "cell_type": "code",
   "execution_count": 8,
   "metadata": {
    "colab_type": "code"
   },
   "outputs": [
    {
     "name": "stdout",
     "output_type": "stream",
     "text": [
      "\n",
      "Epoch 00000: Learning rate is 0.1000.\n",
      "Up to batch 0, the average loss is   25.90.\n",
      "Up to batch 1, the average loss is  446.06.\n",
      "Up to batch 2, the average loss is  302.86.\n",
      "Up to batch 3, the average loss is  229.09.\n",
      "Up to batch 4, the average loss is  185.14.\n",
      "The average loss for epoch 0 is  185.14 and mean absolute error is    7.99.\n",
      "\n",
      "Epoch 00001: Learning rate is 0.1000.\n",
      "Up to batch 0, the average loss is    8.11.\n",
      "Up to batch 1, the average loss is    7.09.\n",
      "Up to batch 2, the average loss is    6.84.\n",
      "Up to batch 3, the average loss is    6.71.\n",
      "Up to batch 4, the average loss is    6.49.\n",
      "The average loss for epoch 1 is    6.49 and mean absolute error is    2.05.\n",
      "\n",
      "Epoch 00002: Learning rate is 0.1000.\n",
      "Up to batch 0, the average loss is    3.48.\n",
      "Up to batch 1, the average loss is    3.78.\n",
      "Up to batch 2, the average loss is    4.33.\n",
      "Up to batch 3, the average loss is    4.64.\n",
      "Up to batch 4, the average loss is    4.87.\n",
      "The average loss for epoch 2 is    4.87 and mean absolute error is    1.79.\n",
      "\n",
      "Epoch 00003: Learning rate is 0.0500.\n",
      "Up to batch 0, the average loss is    4.93.\n",
      "Up to batch 1, the average loss is    4.37.\n",
      "Up to batch 2, the average loss is    4.01.\n",
      "Up to batch 3, the average loss is    3.88.\n",
      "Up to batch 4, the average loss is    3.54.\n",
      "The average loss for epoch 3 is    3.54 and mean absolute error is    1.48.\n",
      "\n",
      "Epoch 00004: Learning rate is 0.0500.\n",
      "Up to batch 0, the average loss is    4.72.\n",
      "Up to batch 1, the average loss is    3.94.\n",
      "Up to batch 2, the average loss is    4.28.\n",
      "Up to batch 3, the average loss is    4.58.\n",
      "Up to batch 4, the average loss is    4.74.\n",
      "The average loss for epoch 4 is    4.74 and mean absolute error is    1.70.\n",
      "\n",
      "Epoch 00005: Learning rate is 0.0500.\n",
      "Up to batch 0, the average loss is    4.33.\n",
      "Up to batch 1, the average loss is    4.53.\n",
      "Up to batch 2, the average loss is    4.89.\n",
      "Up to batch 3, the average loss is    4.65.\n",
      "Up to batch 4, the average loss is    4.41.\n",
      "The average loss for epoch 5 is    4.41 and mean absolute error is    1.68.\n",
      "\n",
      "Epoch 00006: Learning rate is 0.0100.\n",
      "Up to batch 0, the average loss is    4.70.\n",
      "Up to batch 1, the average loss is    5.11.\n",
      "Up to batch 2, the average loss is    4.57.\n",
      "Up to batch 3, the average loss is    4.41.\n",
      "Up to batch 4, the average loss is    4.11.\n",
      "The average loss for epoch 6 is    4.11 and mean absolute error is    1.64.\n",
      "\n",
      "Epoch 00007: Learning rate is 0.0100.\n",
      "Up to batch 0, the average loss is    1.89.\n",
      "Up to batch 1, the average loss is    2.54.\n",
      "Up to batch 2, the average loss is    2.68.\n",
      "Up to batch 3, the average loss is    3.23.\n",
      "Up to batch 4, the average loss is    3.25.\n",
      "The average loss for epoch 7 is    3.25 and mean absolute error is    1.37.\n",
      "\n",
      "Epoch 00008: Learning rate is 0.0100.\n",
      "Up to batch 0, the average loss is    3.40.\n",
      "Up to batch 1, the average loss is    2.87.\n",
      "Up to batch 2, the average loss is    3.19.\n",
      "Up to batch 3, the average loss is    3.02.\n",
      "Up to batch 4, the average loss is    2.97.\n",
      "The average loss for epoch 8 is    2.97 and mean absolute error is    1.34.\n",
      "\n",
      "Epoch 00009: Learning rate is 0.0050.\n",
      "Up to batch 0, the average loss is    4.29.\n",
      "Up to batch 1, the average loss is    4.32.\n",
      "Up to batch 2, the average loss is    4.12.\n",
      "Up to batch 3, the average loss is    3.75.\n",
      "Up to batch 4, the average loss is    3.57.\n",
      "The average loss for epoch 9 is    3.57 and mean absolute error is    1.46.\n",
      "\n",
      "Epoch 00010: Learning rate is 0.0050.\n",
      "Up to batch 0, the average loss is    2.36.\n",
      "Up to batch 1, the average loss is    3.45.\n",
      "Up to batch 2, the average loss is    3.55.\n",
      "Up to batch 3, the average loss is    3.65.\n",
      "Up to batch 4, the average loss is    3.75.\n",
      "The average loss for epoch 10 is    3.75 and mean absolute error is    1.50.\n",
      "\n",
      "Epoch 00011: Learning rate is 0.0050.\n",
      "Up to batch 0, the average loss is    2.80.\n",
      "Up to batch 1, the average loss is    2.62.\n",
      "Up to batch 2, the average loss is    3.09.\n",
      "Up to batch 3, the average loss is    3.09.\n",
      "Up to batch 4, the average loss is    2.98.\n",
      "The average loss for epoch 11 is    2.98 and mean absolute error is    1.35.\n",
      "\n",
      "Epoch 00012: Learning rate is 0.0010.\n",
      "Up to batch 0, the average loss is    3.54.\n",
      "Up to batch 1, the average loss is    3.30.\n",
      "Up to batch 2, the average loss is    2.97.\n",
      "Up to batch 3, the average loss is    3.02.\n",
      "Up to batch 4, the average loss is    3.00.\n",
      "The average loss for epoch 12 is    3.00 and mean absolute error is    1.36.\n",
      "\n",
      "Epoch 00013: Learning rate is 0.0010.\n",
      "Up to batch 0, the average loss is    3.05.\n",
      "Up to batch 1, the average loss is    2.87.\n",
      "Up to batch 2, the average loss is    2.96.\n",
      "Up to batch 3, the average loss is    2.93.\n",
      "Up to batch 4, the average loss is    2.96.\n",
      "The average loss for epoch 13 is    2.96 and mean absolute error is    1.30.\n",
      "\n",
      "Epoch 00014: Learning rate is 0.0010.\n",
      "Up to batch 0, the average loss is    3.65.\n",
      "Up to batch 1, the average loss is    3.28.\n",
      "Up to batch 2, the average loss is    3.16.\n",
      "Up to batch 3, the average loss is    3.20.\n",
      "Up to batch 4, the average loss is    3.35.\n",
      "The average loss for epoch 14 is    3.35 and mean absolute error is    1.45.\n"
     ]
    },
    {
     "data": {
      "text/plain": [
       "<keras.callbacks.History at 0x7fdf16122760>"
      ]
     },
     "execution_count": 8,
     "metadata": {},
     "output_type": "execute_result"
    }
   ],
   "source": [
    "\n",
    "class CustomLearningRateScheduler(keras.callbacks.Callback):\n",
    "    \"\"\"Learning rate scheduler which sets the learning rate according to schedule.\n",
    "\n",
    "  Arguments:\n",
    "      schedule: a function that takes an epoch index\n",
    "          (integer, indexed from 0) and current learning rate\n",
    "          as inputs and returns a new learning rate as output (float).\n",
    "  \"\"\"\n",
    "\n",
    "    def __init__(self, schedule):\n",
    "        super(CustomLearningRateScheduler, self).__init__()\n",
    "        self.schedule = schedule\n",
    "\n",
    "    def on_epoch_begin(self, epoch, logs=None):\n",
    "        if not hasattr(self.model.optimizer, \"lr\"):\n",
    "            raise ValueError('Optimizer must have a \"lr\" attribute.')\n",
    "        # Get the current learning rate from model's optimizer.\n",
    "        lr = float(tf.keras.backend.get_value(self.model.optimizer.learning_rate))\n",
    "        # Call schedule function to get the scheduled learning rate.\n",
    "        scheduled_lr = self.schedule(epoch, lr)\n",
    "        # Set the value back to the optimizer before this epoch starts\n",
    "        tf.keras.backend.set_value(self.model.optimizer.lr, scheduled_lr)\n",
    "        print(\"\\nEpoch %05d: Learning rate is %6.4f.\" % (epoch, scheduled_lr))\n",
    "\n",
    "\n",
    "LR_SCHEDULE = [\n",
    "    # (epoch to start, learning rate) tuples\n",
    "    (3, 0.05),\n",
    "    (6, 0.01),\n",
    "    (9, 0.005),\n",
    "    (12, 0.001),\n",
    "]\n",
    "\n",
    "\n",
    "def lr_schedule(epoch, lr):\n",
    "    \"\"\"Helper function to retrieve the scheduled learning rate based on epoch.\"\"\"\n",
    "    if epoch < LR_SCHEDULE[0][0] or epoch > LR_SCHEDULE[-1][0]:\n",
    "        return lr\n",
    "    for i in range(len(LR_SCHEDULE)):\n",
    "        if epoch == LR_SCHEDULE[i][0]:\n",
    "            return LR_SCHEDULE[i][1]\n",
    "    return lr\n",
    "\n",
    "\n",
    "model = get_model()\n",
    "model.fit(\n",
    "    x_train,\n",
    "    y_train,\n",
    "    batch_size=64,\n",
    "    steps_per_epoch=5,\n",
    "    epochs=15,\n",
    "    verbose=0,\n",
    "    callbacks=[\n",
    "        LossAndErrorPrintingCallback(),\n",
    "        CustomLearningRateScheduler(lr_schedule),\n",
    "    ],\n",
    ")"
   ]
  },
  {
   "cell_type": "markdown",
   "metadata": {
    "colab_type": "text"
   },
   "source": [
    "### Built-in Keras callbacks\n",
    "Be sure to check out the existing Keras callbacks by\n",
    "reading the [API docs](https://keras.io/api/callbacks/).\n",
    "Applications include logging to CSV, saving\n",
    "the model, visualizing metrics in TensorBoard, and a lot more!"
   ]
  }
 ],
 "metadata": {
  "colab": {
   "collapsed_sections": [],
   "name": "writing_your_own_callbacks",
   "private_outputs": false,
   "provenance": [],
   "toc_visible": true
  },
  "kernelspec": {
   "display_name": "Python 3",
   "language": "python",
   "name": "python3"
  },
  "language_info": {
   "codemirror_mode": {
    "name": "ipython",
    "version": 3
   },
   "file_extension": ".py",
   "mimetype": "text/x-python",
   "name": "python",
   "nbconvert_exporter": "python",
   "pygments_lexer": "ipython3",
   "version": "3.8.8"
  }
 },
 "nbformat": 4,
 "nbformat_minor": 1
}
