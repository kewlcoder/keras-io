{
 "cells": [
  {
   "cell_type": "markdown",
   "metadata": {
    "colab_type": "text"
   },
   "source": [
    "# Understanding masking & padding\n",
    "\n",
    "**Authors:** Scott Zhu, Francois Chollet<br>\n",
    "**Date created:** 2019/07/16<br>\n",
    "**Last modified:** 2020/04/14<br>\n",
    "**Description:** Complete guide to using mask-aware sequence layers in Keras."
   ]
  },
  {
   "cell_type": "markdown",
   "metadata": {
    "colab_type": "text"
   },
   "source": [
    "## Setup"
   ]
  },
  {
   "cell_type": "code",
   "execution_count": 1,
   "metadata": {
    "colab_type": "code"
   },
   "outputs": [],
   "source": [
    "import numpy as np\n",
    "import tensorflow as tf\n",
    "from tensorflow import keras\n",
    "from tensorflow.keras import layers"
   ]
  },
  {
   "cell_type": "markdown",
   "metadata": {
    "colab_type": "text"
   },
   "source": [
    "## Introduction\n",
    "\n",
    "**Masking** is a way to tell sequence-processing layers that certain timesteps\n",
    "in an input are missing, and thus should be skipped when processing the data.\n",
    "\n",
    "**Padding** is a special form of masking where the masked steps are at the start or\n",
    "the end of a sequence. Padding comes from the need to encode sequence data into\n",
    "contiguous batches: in order to make all sequences in a batch fit a given standard\n",
    "length, it is necessary to pad or truncate some sequences.\n",
    "\n",
    "Let's take a close look."
   ]
  },
  {
   "cell_type": "markdown",
   "metadata": {
    "colab_type": "text"
   },
   "source": [
    "## Padding sequence data\n",
    "\n",
    "When processing sequence data, it is very common for individual samples to have\n",
    "different lengths. Consider the following example (text tokenized as words):\n",
    "\n",
    "```\n",
    "[\n",
    "  [\"Hello\", \"world\", \"!\"],\n",
    "  [\"How\", \"are\", \"you\", \"doing\", \"today\"],\n",
    "  [\"The\", \"weather\", \"will\", \"be\", \"nice\", \"tomorrow\"],\n",
    "]\n",
    "```\n",
    "\n",
    "After vocabulary lookup, the data might be vectorized as integers, e.g.:\n",
    "\n",
    "```\n",
    "[\n",
    "  [71, 1331, 4231]\n",
    "  [73, 8, 3215, 55, 927],\n",
    "  [83, 91, 1, 645, 1253, 927],\n",
    "]\n",
    "```\n",
    "\n",
    "The data is a nested list where individual samples have length 3, 5, and 6,\n",
    "respectively. Since the input data for a deep learning model must be a single tensor\n",
    "(of shape e.g. `(batch_size, 6, vocab_size)` in this case), samples that are shorter\n",
    "than the longest item need to be padded with some placeholder value (alternatively,\n",
    "one might also truncate long samples before padding short samples).\n",
    "\n",
    "Keras provides a utility function to truncate and pad Python lists to a common length:\n",
    "`tf.keras.preprocessing.sequence.pad_sequences`."
   ]
  },
  {
   "cell_type": "code",
   "execution_count": 6,
   "metadata": {},
   "outputs": [],
   "source": [
    "raw_inputs = [\n",
    "    [711, 632, 71],\n",
    "    [73, 8, 3215, 55, 927],\n",
    "    [83, 91, 1, 645, 1253, 927],\n",
    "]"
   ]
  },
  {
   "cell_type": "markdown",
   "metadata": {},
   "source": [
    "### Imp\n",
    "By default, this will pad using 0s; it is configurable via the\n",
    "\"value\" parameter.\n",
    "Note that you could \"pre\" padding (at the beginning) or\n",
    "\"post\" padding (at the end).\n",
    "We recommend using \"post\" padding when working with RNN layers\n",
    "(in order to be able to use the\n",
    "CuDNN implementation of the layers).\n"
   ]
  },
  {
   "cell_type": "code",
   "execution_count": 7,
   "metadata": {},
   "outputs": [],
   "source": [
    "padded_inputs = tf.keras.preprocessing.sequence.pad_sequences(raw_inputs, padding='post')"
   ]
  },
  {
   "cell_type": "code",
   "execution_count": 8,
   "metadata": {},
   "outputs": [
    {
     "data": {
      "text/plain": [
       "array([[ 711,  632,   71,    0,    0,    0],\n",
       "       [  73,    8, 3215,   55,  927,    0],\n",
       "       [  83,   91,    1,  645, 1253,  927]], dtype=int32)"
      ]
     },
     "execution_count": 8,
     "metadata": {},
     "output_type": "execute_result"
    }
   ],
   "source": [
    "padded_inputs"
   ]
  },
  {
   "cell_type": "markdown",
   "metadata": {
    "colab_type": "text"
   },
   "source": [
    "## Masking\n",
    "\n",
    "Now that all samples have a uniform length, the model must be informed that some part\n",
    "of the data is actually padding and should be ignored. That mechanism is **masking**.\n",
    "\n",
    "There are three ways to introduce input masks in Keras models:\n",
    "\n",
    "- Add a `keras.layers.Masking` layer.\n",
    "- Configure a `keras.layers.Embedding` layer with `mask_zero=True`.\n",
    "- Pass a `mask` argument manually when calling layers that support this argument (e.g.\n",
    "RNN layers)."
   ]
  },
  {
   "cell_type": "markdown",
   "metadata": {
    "colab_type": "text"
   },
   "source": [
    "## Mask-generating layers: `Embedding` and `Masking`\n",
    "\n",
    "Under the hood, these layers will create a mask tensor (2D tensor with shape `(batch,\n",
    "sequence_length)`), and attach it to the tensor output returned by the `Masking` or\n",
    "`Embedding` layer."
   ]
  },
  {
   "cell_type": "code",
   "execution_count": 9,
   "metadata": {
    "colab_type": "code"
   },
   "outputs": [],
   "source": [
    "embedding = layers.Embedding(input_dim=5000, output_dim=16, mask_zero=True)\n",
    "masked_output = embedding(padded_inputs)"
   ]
  },
  {
   "cell_type": "code",
   "execution_count": 13,
   "metadata": {},
   "outputs": [
    {
     "name": "stdout",
     "output_type": "stream",
     "text": [
      "(3, 6, 16)\n"
     ]
    },
    {
     "data": {
      "text/plain": [
       "<tf.Tensor: shape=(3, 6, 16), dtype=float32, numpy=\n",
       "array([[[ 3.83591317e-02,  3.12687084e-03, -7.03222677e-03,\n",
       "         -1.48894675e-02,  1.86469220e-02,  4.92996685e-02,\n",
       "          4.75878231e-02,  1.51585601e-02, -3.89126539e-02,\n",
       "          3.26535143e-02,  3.16654705e-02, -4.18977030e-02,\n",
       "         -3.56747992e-02, -2.34782696e-03,  4.57393415e-02,\n",
       "          3.01190130e-02],\n",
       "        [ 4.04874422e-02, -3.89990099e-02,  3.24613564e-02,\n",
       "          6.13810867e-03,  2.15807892e-02, -3.63135450e-02,\n",
       "          1.36734284e-02,  4.36249413e-02,  2.71589682e-03,\n",
       "         -3.45518813e-02, -1.96541473e-03, -1.49411671e-02,\n",
       "         -2.56510023e-02,  4.46852297e-03,  4.84563597e-02,\n",
       "          2.55237333e-02],\n",
       "        [-4.66750972e-02,  2.28962041e-02,  4.31564488e-02,\n",
       "          4.95133139e-02, -3.88753414e-03,  2.77821757e-02,\n",
       "         -1.45426877e-02, -1.61387809e-02,  4.53666560e-02,\n",
       "          4.77552302e-02,  3.50899808e-02,  6.97017834e-03,\n",
       "          4.95044030e-02, -3.70441563e-02,  4.95614894e-02,\n",
       "          3.01610120e-02],\n",
       "        [-4.36445959e-02,  2.78033316e-04,  3.18706147e-02,\n",
       "          3.68258692e-02, -4.53319401e-03,  4.52545546e-02,\n",
       "         -4.74635027e-02, -8.30902904e-03,  2.71825679e-02,\n",
       "         -2.51168367e-02,  3.68226282e-02, -4.31543365e-02,\n",
       "          2.49313191e-03,  2.14222409e-02,  1.84964016e-03,\n",
       "         -4.67493385e-03],\n",
       "        [-4.36445959e-02,  2.78033316e-04,  3.18706147e-02,\n",
       "          3.68258692e-02, -4.53319401e-03,  4.52545546e-02,\n",
       "         -4.74635027e-02, -8.30902904e-03,  2.71825679e-02,\n",
       "         -2.51168367e-02,  3.68226282e-02, -4.31543365e-02,\n",
       "          2.49313191e-03,  2.14222409e-02,  1.84964016e-03,\n",
       "         -4.67493385e-03],\n",
       "        [-4.36445959e-02,  2.78033316e-04,  3.18706147e-02,\n",
       "          3.68258692e-02, -4.53319401e-03,  4.52545546e-02,\n",
       "         -4.74635027e-02, -8.30902904e-03,  2.71825679e-02,\n",
       "         -2.51168367e-02,  3.68226282e-02, -4.31543365e-02,\n",
       "          2.49313191e-03,  2.14222409e-02,  1.84964016e-03,\n",
       "         -4.67493385e-03]],\n",
       "\n",
       "       [[ 4.87816595e-02, -8.48829746e-03,  4.07221168e-03,\n",
       "          7.00793415e-03, -3.65471244e-02,  1.31920315e-02,\n",
       "         -3.82248871e-02,  3.01241167e-02,  4.57936861e-02,\n",
       "          4.28833701e-02,  2.31734775e-02, -2.25759745e-02,\n",
       "          2.66404040e-02,  3.82977240e-02,  3.35644595e-02,\n",
       "          3.94193865e-02],\n",
       "        [ 6.92325830e-03, -3.60025764e-02,  2.12755539e-02,\n",
       "         -4.21504155e-02,  2.15097107e-02, -4.56424244e-02,\n",
       "          3.06822173e-02,  1.10709183e-02,  4.07448672e-02,\n",
       "          1.97762884e-02, -2.20384840e-02,  2.92780437e-02,\n",
       "         -4.33114879e-02,  1.58786513e-02,  4.36915495e-02,\n",
       "          2.29729302e-02],\n",
       "        [-2.76279449e-02, -1.74634084e-02, -1.65341869e-02,\n",
       "          2.41081603e-02, -2.84035206e-02,  4.62199114e-02,\n",
       "          4.17405479e-02,  1.69678442e-02,  4.15159799e-02,\n",
       "         -4.79929708e-02, -3.13594341e-02,  3.21684591e-02,\n",
       "         -5.68643957e-03, -3.18431146e-02, -4.19700518e-02,\n",
       "          4.71994393e-02],\n",
       "        [-2.55810264e-02,  3.71923186e-02, -9.23331827e-03,\n",
       "          7.51926750e-03,  3.07396986e-02,  2.20485218e-02,\n",
       "         -4.18865308e-02, -6.07181713e-03, -1.12009756e-02,\n",
       "          3.62027325e-02,  2.26604007e-02,  1.98219903e-02,\n",
       "          2.92622112e-02, -4.10318598e-02, -6.36125728e-03,\n",
       "         -2.86777969e-02],\n",
       "        [ 3.17957662e-02, -4.82408069e-02, -4.27575819e-02,\n",
       "          4.81107719e-02,  2.88613327e-02, -1.15966797e-02,\n",
       "         -2.50446554e-02, -2.79560685e-02, -4.21761274e-02,\n",
       "          7.25996494e-03,  1.78533904e-02, -3.24667320e-02,\n",
       "         -4.39160354e-02, -4.67997789e-03,  1.86477415e-02,\n",
       "         -4.98271957e-02],\n",
       "        [-4.36445959e-02,  2.78033316e-04,  3.18706147e-02,\n",
       "          3.68258692e-02, -4.53319401e-03,  4.52545546e-02,\n",
       "         -4.74635027e-02, -8.30902904e-03,  2.71825679e-02,\n",
       "         -2.51168367e-02,  3.68226282e-02, -4.31543365e-02,\n",
       "          2.49313191e-03,  2.14222409e-02,  1.84964016e-03,\n",
       "         -4.67493385e-03]],\n",
       "\n",
       "       [[ 4.43034284e-02, -4.71147299e-02, -4.47886065e-03,\n",
       "         -4.30328362e-02,  1.11918077e-02,  3.36901881e-02,\n",
       "         -3.86314467e-03,  9.53104347e-03, -4.73363884e-02,\n",
       "         -4.04756442e-02, -3.30497399e-02,  3.04793976e-02,\n",
       "          5.61100245e-03,  3.26722898e-02, -2.81053185e-02,\n",
       "         -9.28737223e-04],\n",
       "        [ 3.25918905e-02,  3.76537181e-02, -1.47658959e-02,\n",
       "         -2.66443845e-02,  1.70226432e-02,  3.07608955e-02,\n",
       "          1.60247348e-02, -1.80387013e-02,  3.89553793e-02,\n",
       "          2.44664066e-02, -4.72168811e-02, -2.11334825e-02,\n",
       "         -4.62133065e-02, -2.94094086e-02,  1.26475096e-03,\n",
       "          2.21086666e-03],\n",
       "        [ 2.28560679e-02, -1.38421059e-02,  3.96584533e-02,\n",
       "         -1.59562714e-02, -3.75827178e-02,  4.87739705e-02,\n",
       "          3.00859548e-02,  4.83550914e-02, -3.77636328e-02,\n",
       "         -1.32237189e-02, -1.25117190e-02, -1.04727857e-02,\n",
       "          4.15530242e-02,  1.52237527e-02, -3.53712924e-02,\n",
       "         -4.32927720e-02],\n",
       "        [ 2.70423181e-02, -3.69245410e-02, -6.85870647e-04,\n",
       "          8.42630863e-04, -2.97473911e-02,  9.61231068e-03,\n",
       "          1.87766217e-02,  1.81794278e-02,  2.14160122e-02,\n",
       "          3.78290154e-02, -1.54039375e-02, -4.77230661e-02,\n",
       "          2.11055018e-02,  2.46774405e-04,  1.65218115e-03,\n",
       "         -2.92410254e-02],\n",
       "        [ 2.08602212e-02, -3.84641513e-02, -2.06157919e-02,\n",
       "         -2.72008907e-02,  2.61052363e-02,  3.56568731e-02,\n",
       "          3.97208445e-02,  2.67611854e-02,  1.87850930e-02,\n",
       "          7.62619823e-03, -2.82585025e-02,  2.03586742e-03,\n",
       "         -5.72204590e-05, -3.91115546e-02, -5.50987571e-03,\n",
       "          4.47724126e-02],\n",
       "        [ 3.17957662e-02, -4.82408069e-02, -4.27575819e-02,\n",
       "          4.81107719e-02,  2.88613327e-02, -1.15966797e-02,\n",
       "         -2.50446554e-02, -2.79560685e-02, -4.21761274e-02,\n",
       "          7.25996494e-03,  1.78533904e-02, -3.24667320e-02,\n",
       "         -4.39160354e-02, -4.67997789e-03,  1.86477415e-02,\n",
       "         -4.98271957e-02]]], dtype=float32)>"
      ]
     },
     "execution_count": 13,
     "metadata": {},
     "output_type": "execute_result"
    }
   ],
   "source": [
    "print(masked_output.shape)\n",
    "masked_output"
   ]
  },
  {
   "cell_type": "code",
   "execution_count": 12,
   "metadata": {},
   "outputs": [
    {
     "name": "stdout",
     "output_type": "stream",
     "text": [
      "tf.Tensor(\n",
      "[[ True  True  True False False False]\n",
      " [ True  True  True  True  True False]\n",
      " [ True  True  True  True  True  True]], shape=(3, 6), dtype=bool)\n"
     ]
    }
   ],
   "source": [
    "print(masked_output._keras_mask)"
   ]
  },
  {
   "cell_type": "code",
   "execution_count": 17,
   "metadata": {},
   "outputs": [
    {
     "data": {
      "text/plain": [
       "<tf.Tensor: shape=(3, 6, 1), dtype=int32, numpy=\n",
       "array([[[ 711],\n",
       "        [ 632],\n",
       "        [  71],\n",
       "        [   0],\n",
       "        [   0],\n",
       "        [   0]],\n",
       "\n",
       "       [[  73],\n",
       "        [   8],\n",
       "        [3215],\n",
       "        [  55],\n",
       "        [ 927],\n",
       "        [   0]],\n",
       "\n",
       "       [[  83],\n",
       "        [  91],\n",
       "        [   1],\n",
       "        [ 645],\n",
       "        [1253],\n",
       "        [ 927]]], dtype=int32)>"
      ]
     },
     "execution_count": 17,
     "metadata": {},
     "output_type": "execute_result"
    }
   ],
   "source": [
    "tf.expand_dims(padded_inputs, axis=-1)"
   ]
  },
  {
   "cell_type": "code",
   "execution_count": 19,
   "metadata": {},
   "outputs": [
    {
     "data": {
      "text/plain": [
       "<tf.Tensor: shape=(3, 6, 10), dtype=int32, numpy=\n",
       "array([[[ 711,  711,  711,  711,  711,  711,  711,  711,  711,  711],\n",
       "        [ 632,  632,  632,  632,  632,  632,  632,  632,  632,  632],\n",
       "        [  71,   71,   71,   71,   71,   71,   71,   71,   71,   71],\n",
       "        [   0,    0,    0,    0,    0,    0,    0,    0,    0,    0],\n",
       "        [   0,    0,    0,    0,    0,    0,    0,    0,    0,    0],\n",
       "        [   0,    0,    0,    0,    0,    0,    0,    0,    0,    0]],\n",
       "\n",
       "       [[  73,   73,   73,   73,   73,   73,   73,   73,   73,   73],\n",
       "        [   8,    8,    8,    8,    8,    8,    8,    8,    8,    8],\n",
       "        [3215, 3215, 3215, 3215, 3215, 3215, 3215, 3215, 3215, 3215],\n",
       "        [  55,   55,   55,   55,   55,   55,   55,   55,   55,   55],\n",
       "        [ 927,  927,  927,  927,  927,  927,  927,  927,  927,  927],\n",
       "        [   0,    0,    0,    0,    0,    0,    0,    0,    0,    0]],\n",
       "\n",
       "       [[  83,   83,   83,   83,   83,   83,   83,   83,   83,   83],\n",
       "        [  91,   91,   91,   91,   91,   91,   91,   91,   91,   91],\n",
       "        [   1,    1,    1,    1,    1,    1,    1,    1,    1,    1],\n",
       "        [ 645,  645,  645,  645,  645,  645,  645,  645,  645,  645],\n",
       "        [1253, 1253, 1253, 1253, 1253, 1253, 1253, 1253, 1253, 1253],\n",
       "        [ 927,  927,  927,  927,  927,  927,  927,  927,  927,  927]]],\n",
       "      dtype=int32)>"
      ]
     },
     "execution_count": 19,
     "metadata": {},
     "output_type": "execute_result"
    }
   ],
   "source": [
    "tf.tile(tf.expand_dims(padded_inputs, axis=-1), [1, 1, 10])"
   ]
  },
  {
   "cell_type": "code",
   "execution_count": 14,
   "metadata": {
    "colab_type": "code"
   },
   "outputs": [
    {
     "name": "stdout",
     "output_type": "stream",
     "text": [
      "tf.Tensor(\n",
      "[[ True  True  True False False False]\n",
      " [ True  True  True  True  True False]\n",
      " [ True  True  True  True  True  True]], shape=(3, 6), dtype=bool)\n"
     ]
    }
   ],
   "source": [
    "masking_layer = layers.Masking()\n",
    "# Simulate the embedding lookup by expanding the 2D input to 3D,\n",
    "# with embedding dimension of 10.\n",
    "# tf.cast converts to float32\n",
    "# tile multiplies dims (3,6,1) with dims (1,1,10)\n",
    "# expand_dims adds a newaxis dim after the last dim/axis.\n",
    "unmasked_embedding = tf.cast(\n",
    "    tf.tile(tf.expand_dims(padded_inputs, axis=-1), [1, 1, 10]), tf.float32\n",
    ")\n",
    "\n",
    "masked_embedding = masking_layer(unmasked_embedding)\n",
    "print(masked_embedding._keras_mask)"
   ]
  },
  {
   "cell_type": "code",
   "execution_count": 15,
   "metadata": {},
   "outputs": [
    {
     "data": {
      "text/plain": [
       "<tf.Tensor: shape=(3, 6, 10), dtype=float32, numpy=\n",
       "array([[[7.110e+02, 7.110e+02, 7.110e+02, 7.110e+02, 7.110e+02,\n",
       "         7.110e+02, 7.110e+02, 7.110e+02, 7.110e+02, 7.110e+02],\n",
       "        [6.320e+02, 6.320e+02, 6.320e+02, 6.320e+02, 6.320e+02,\n",
       "         6.320e+02, 6.320e+02, 6.320e+02, 6.320e+02, 6.320e+02],\n",
       "        [7.100e+01, 7.100e+01, 7.100e+01, 7.100e+01, 7.100e+01,\n",
       "         7.100e+01, 7.100e+01, 7.100e+01, 7.100e+01, 7.100e+01],\n",
       "        [0.000e+00, 0.000e+00, 0.000e+00, 0.000e+00, 0.000e+00,\n",
       "         0.000e+00, 0.000e+00, 0.000e+00, 0.000e+00, 0.000e+00],\n",
       "        [0.000e+00, 0.000e+00, 0.000e+00, 0.000e+00, 0.000e+00,\n",
       "         0.000e+00, 0.000e+00, 0.000e+00, 0.000e+00, 0.000e+00],\n",
       "        [0.000e+00, 0.000e+00, 0.000e+00, 0.000e+00, 0.000e+00,\n",
       "         0.000e+00, 0.000e+00, 0.000e+00, 0.000e+00, 0.000e+00]],\n",
       "\n",
       "       [[7.300e+01, 7.300e+01, 7.300e+01, 7.300e+01, 7.300e+01,\n",
       "         7.300e+01, 7.300e+01, 7.300e+01, 7.300e+01, 7.300e+01],\n",
       "        [8.000e+00, 8.000e+00, 8.000e+00, 8.000e+00, 8.000e+00,\n",
       "         8.000e+00, 8.000e+00, 8.000e+00, 8.000e+00, 8.000e+00],\n",
       "        [3.215e+03, 3.215e+03, 3.215e+03, 3.215e+03, 3.215e+03,\n",
       "         3.215e+03, 3.215e+03, 3.215e+03, 3.215e+03, 3.215e+03],\n",
       "        [5.500e+01, 5.500e+01, 5.500e+01, 5.500e+01, 5.500e+01,\n",
       "         5.500e+01, 5.500e+01, 5.500e+01, 5.500e+01, 5.500e+01],\n",
       "        [9.270e+02, 9.270e+02, 9.270e+02, 9.270e+02, 9.270e+02,\n",
       "         9.270e+02, 9.270e+02, 9.270e+02, 9.270e+02, 9.270e+02],\n",
       "        [0.000e+00, 0.000e+00, 0.000e+00, 0.000e+00, 0.000e+00,\n",
       "         0.000e+00, 0.000e+00, 0.000e+00, 0.000e+00, 0.000e+00]],\n",
       "\n",
       "       [[8.300e+01, 8.300e+01, 8.300e+01, 8.300e+01, 8.300e+01,\n",
       "         8.300e+01, 8.300e+01, 8.300e+01, 8.300e+01, 8.300e+01],\n",
       "        [9.100e+01, 9.100e+01, 9.100e+01, 9.100e+01, 9.100e+01,\n",
       "         9.100e+01, 9.100e+01, 9.100e+01, 9.100e+01, 9.100e+01],\n",
       "        [1.000e+00, 1.000e+00, 1.000e+00, 1.000e+00, 1.000e+00,\n",
       "         1.000e+00, 1.000e+00, 1.000e+00, 1.000e+00, 1.000e+00],\n",
       "        [6.450e+02, 6.450e+02, 6.450e+02, 6.450e+02, 6.450e+02,\n",
       "         6.450e+02, 6.450e+02, 6.450e+02, 6.450e+02, 6.450e+02],\n",
       "        [1.253e+03, 1.253e+03, 1.253e+03, 1.253e+03, 1.253e+03,\n",
       "         1.253e+03, 1.253e+03, 1.253e+03, 1.253e+03, 1.253e+03],\n",
       "        [9.270e+02, 9.270e+02, 9.270e+02, 9.270e+02, 9.270e+02,\n",
       "         9.270e+02, 9.270e+02, 9.270e+02, 9.270e+02, 9.270e+02]]],\n",
       "      dtype=float32)>"
      ]
     },
     "execution_count": 15,
     "metadata": {},
     "output_type": "execute_result"
    }
   ],
   "source": [
    "masked_embedding"
   ]
  },
  {
   "cell_type": "markdown",
   "metadata": {
    "colab_type": "text"
   },
   "source": [
    "As you can see from the printed result, the mask is a 2D boolean tensor with shape\n",
    "`(batch_size, sequence_length)`, where each individual `False` entry indicates that\n",
    "the corresponding timestep should be ignored during processing."
   ]
  },
  {
   "cell_type": "markdown",
   "metadata": {
    "colab_type": "text"
   },
   "source": [
    "## Mask propagation in the Functional API and Sequential API\n",
    "\n",
    "When using the Functional API or the Sequential API, a mask generated by an `Embedding`\n",
    "or `Masking` layer will be propagated through the network for any layer that is\n",
    "capable of using them (for example, RNN layers). Keras will automatically fetch the\n",
    "mask corresponding to an input and pass it to any layer that knows how to use it.\n",
    "\n",
    "For instance, in the following Sequential model, the `LSTM` layer will automatically\n",
    "receive a mask, which means it will ignore padded values:"
   ]
  },
  {
   "cell_type": "code",
   "execution_count": 21,
   "metadata": {
    "colab_type": "code"
   },
   "outputs": [],
   "source": [
    "model = keras.Sequential(\n",
    "    [layers.Embedding(input_dim=5000, output_dim=16, mask_zero=True), layers.LSTM(32),]\n",
    ")"
   ]
  },
  {
   "cell_type": "markdown",
   "metadata": {
    "colab_type": "text"
   },
   "source": [
    "This is also the case for the following Functional API model:"
   ]
  },
  {
   "cell_type": "code",
   "execution_count": 22,
   "metadata": {
    "colab_type": "code"
   },
   "outputs": [],
   "source": [
    "inputs = keras.Input(shape=(None,), dtype=\"int32\")\n",
    "x = layers.Embedding(input_dim=5000, output_dim=16, mask_zero=True)(inputs)\n",
    "outputs = layers.LSTM(32)(x)\n",
    "\n",
    "model = keras.Model(inputs, outputs)"
   ]
  },
  {
   "cell_type": "markdown",
   "metadata": {
    "colab_type": "text"
   },
   "source": [
    "## Passing mask tensors directly to layers"
   ]
  },
  {
   "cell_type": "markdown",
   "metadata": {
    "colab_type": "text"
   },
   "source": [
    "Layers that can handle masks (such as the `LSTM` layer) have a `mask` argument in their\n",
    "`__call__` method.\n",
    "\n",
    "Meanwhile, layers that produce a mask (e.g. `Embedding`) expose a `compute_mask(input,\n",
    "previous_mask)` method which you can call.\n",
    "\n",
    "Thus, you can pass the output of the `compute_mask()` method of a mask-producing layer\n",
    "to the `__call__` method of a mask-consuming layer, like this:"
   ]
  },
  {
   "cell_type": "code",
   "execution_count": 24,
   "metadata": {
    "colab_type": "code"
   },
   "outputs": [
    {
     "data": {
      "text/plain": [
       "<tf.Tensor: shape=(32, 32), dtype=float32, numpy=\n",
       "array([[-0.00203496,  0.00147961,  0.00492843, ..., -0.00807426,\n",
       "         0.00613214, -0.00628175],\n",
       "       [-0.0014797 , -0.00647068, -0.00057935, ...,  0.00354639,\n",
       "        -0.00357974, -0.00542775],\n",
       "       [-0.00172521, -0.00194251,  0.00501177, ..., -0.00111498,\n",
       "         0.00851829,  0.00351916],\n",
       "       ...,\n",
       "       [ 0.00527526,  0.00952978,  0.00125607, ...,  0.0010293 ,\n",
       "         0.00021645,  0.00077123],\n",
       "       [-0.00395396, -0.00061807,  0.00013433, ...,  0.00088698,\n",
       "        -0.00645181,  0.00497414],\n",
       "       [ 0.0043213 , -0.00390219,  0.00441718, ..., -0.0004273 ,\n",
       "        -0.00670866, -0.00112915]], dtype=float32)>"
      ]
     },
     "execution_count": 24,
     "metadata": {},
     "output_type": "execute_result"
    }
   ],
   "source": [
    "\n",
    "class MyLayer(layers.Layer):\n",
    "    def __init__(self, **kwargs):\n",
    "        super(MyLayer, self).__init__(**kwargs)\n",
    "        self.embedding = layers.Embedding(input_dim=5000, output_dim=16, mask_zero=True)\n",
    "        self.lstm = layers.LSTM(32)\n",
    "\n",
    "    def call(self, inputs):\n",
    "        x = self.embedding(inputs)\n",
    "        # Note that you could also prepare a `mask` tensor manually.\n",
    "        # It only needs to be a boolean tensor\n",
    "        # with the right shape, i.e. (batch_size, timesteps).\n",
    "        mask = self.embedding.compute_mask(inputs)\n",
    "        output = self.lstm(x, mask=mask)  # The layer will ignore the masked values\n",
    "        return output\n",
    "\n",
    "\n",
    "layer = MyLayer()\n",
    "x = np.random.random((32, 10)) * 100\n",
    "x = x.astype(\"int32\")\n",
    "layer(x)"
   ]
  },
  {
   "cell_type": "markdown",
   "metadata": {
    "colab_type": "text"
   },
   "source": [
    "# vImp & Good - \n",
    "## Supporting masking in your custom layers"
   ]
  },
  {
   "cell_type": "markdown",
   "metadata": {
    "colab_type": "text"
   },
   "source": [
    "Sometimes, you may need to write layers that generate a mask (like `Embedding`), or\n",
    "layers that need to modify the current mask.\n",
    "\n",
    "For instance, any layer that produces a tensor with a different time dimension than its\n",
    "input, such as a `Concatenate` layer that concatenates on the time dimension, will\n",
    "need to modify the current mask so that downstream layers will be able to properly\n",
    "take masked timesteps into account.\n",
    "\n",
    "To do this, your layer should implement the `layer.compute_mask()` method, which\n",
    "produces a new mask given the input and the current mask.\n",
    "\n",
    "Here is an example of a `TemporalSplit` layer that needs to modify the current mask."
   ]
  },
  {
   "cell_type": "code",
   "execution_count": 26,
   "metadata": {
    "colab_type": "code"
   },
   "outputs": [
    {
     "name": "stdout",
     "output_type": "stream",
     "text": [
      "tf.Tensor(\n",
      "[[ True  True  True]\n",
      " [ True  True  True]\n",
      " [ True  True  True]], shape=(3, 3), dtype=bool)\n",
      "tf.Tensor(\n",
      "[[False False False]\n",
      " [ True  True False]\n",
      " [ True  True  True]], shape=(3, 3), dtype=bool)\n"
     ]
    }
   ],
   "source": [
    "\n",
    "class TemporalSplit(keras.layers.Layer):\n",
    "    \"\"\"Split the input tensor into 2 tensors along the time dimension.\"\"\"\n",
    "\n",
    "    def call(self, inputs):\n",
    "        # Expect the input to be 3D and mask to be 2D, split the input tensor into 2\n",
    "        # subtensors along the time axis (axis 1).\n",
    "        return tf.split(inputs, 2, axis=1)\n",
    "\n",
    "    def compute_mask(self, inputs, mask=None):\n",
    "        # Also split the mask into 2 if it presents.\n",
    "        if mask is None:\n",
    "            return None\n",
    "        return tf.split(mask, 2, axis=1)\n",
    "\n",
    "\n",
    "first_half, second_half = TemporalSplit()(masked_embedding)\n",
    "print(first_half._keras_mask)\n",
    "print(second_half._keras_mask)"
   ]
  },
  {
   "cell_type": "markdown",
   "metadata": {
    "colab_type": "text"
   },
   "source": [
    "Here is another example of a `CustomEmbedding` layer that is capable of generating a\n",
    "mask from input values:"
   ]
  },
  {
   "cell_type": "code",
   "execution_count": 27,
   "metadata": {},
   "outputs": [
    {
     "data": {
      "text/plain": [
       "array([[5.29769109e+00, 4.07186797e+00, 8.11412938e+00, 6.48134702e+00,\n",
       "        6.05303711e+00, 3.54707622e+00, 2.93036567e+00, 4.50039310e+00,\n",
       "        2.30991062e+00, 5.85829007e+00],\n",
       "       [7.40296611e+00, 4.77358041e+00, 1.62138507e+00, 5.51401692e+00,\n",
       "        2.13436286e+00, 4.46139139e+00, 7.79502197e+00, 4.08073733e-01,\n",
       "        2.81089608e+00, 7.03077833e+00],\n",
       "       [8.24212908e+00, 6.09363221e+00, 1.41662253e+00, 6.78876718e+00,\n",
       "        4.37951754e+00, 5.73679730e+00, 5.79445188e+00, 1.59821305e+00,\n",
       "        3.89678364e-03, 5.72649276e+00]])"
      ]
     },
     "execution_count": 27,
     "metadata": {},
     "output_type": "execute_result"
    }
   ],
   "source": [
    "np.random.random((3, 10)) * 9"
   ]
  },
  {
   "cell_type": "code",
   "execution_count": 28,
   "metadata": {
    "colab_type": "code"
   },
   "outputs": [
    {
     "name": "stdout",
     "output_type": "stream",
     "text": [
      "tf.Tensor(\n",
      "[[ True  True  True  True  True  True  True  True  True  True]\n",
      " [False  True  True  True  True False  True  True  True False]\n",
      " [ True  True  True  True  True  True  True  True  True  True]], shape=(3, 10), dtype=bool)\n"
     ]
    }
   ],
   "source": [
    "\n",
    "class CustomEmbedding(keras.layers.Layer):\n",
    "    def __init__(self, input_dim, output_dim, mask_zero=False, **kwargs):\n",
    "        super(CustomEmbedding, self).__init__(**kwargs)\n",
    "        self.input_dim = input_dim\n",
    "        self.output_dim = output_dim\n",
    "        self.mask_zero = mask_zero\n",
    "\n",
    "    def build(self, input_shape):\n",
    "        self.embeddings = self.add_weight(\n",
    "            shape=(self.input_dim, self.output_dim),\n",
    "            initializer=\"random_normal\",\n",
    "            dtype=\"float32\",\n",
    "        )\n",
    "\n",
    "    def call(self, inputs):\n",
    "        return tf.nn.embedding_lookup(self.embeddings, inputs)\n",
    "\n",
    "    def compute_mask(self, inputs, mask=None):\n",
    "        if not self.mask_zero:\n",
    "            return None\n",
    "        return tf.not_equal(inputs, 0)\n",
    "\n",
    "\n",
    "layer = CustomEmbedding(10, 32, mask_zero=True)\n",
    "x = np.random.random((3, 10)) * 9\n",
    "x = x.astype(\"int32\")\n",
    "\n",
    "y = layer(x)\n",
    "mask = layer.compute_mask(x)\n",
    "\n",
    "print(mask)"
   ]
  },
  {
   "cell_type": "markdown",
   "metadata": {
    "colab_type": "text"
   },
   "source": [
    "## Opting-in to mask propagation on compatible layers\n",
    "\n",
    "Most layers don't modify the time dimension, so don't need to modify the current mask.\n",
    "However, they may still want to be able to **propagate** the current mask, unchanged,\n",
    "to the next layer. **This is an opt-in behavior.** By default, a custom layer will\n",
    "destroy the current mask (since the framework has no way to tell whether propagating\n",
    "the mask is safe to do).\n",
    "\n",
    "If you have a custom layer that does not modify the time dimension, and if you want it\n",
    "to be able to propagate the current input mask, you should set `self.supports_masking\n",
    "= True` in the layer constructor. In this case, the default behavior of\n",
    "`compute_mask()` is to just pass the current mask through.\n",
    "\n",
    "Here's an example of a layer that is whitelisted for mask propagation:"
   ]
  },
  {
   "cell_type": "code",
   "execution_count": 0,
   "metadata": {
    "colab_type": "code"
   },
   "outputs": [],
   "source": [
    "\n",
    "class MyActivation(keras.layers.Layer):\n",
    "    def __init__(self, **kwargs):\n",
    "        super(MyActivation, self).__init__(**kwargs)\n",
    "        # Signal that the layer is safe for mask propagation\n",
    "        self.supports_masking = True\n",
    "\n",
    "    def call(self, inputs):\n",
    "        return tf.nn.relu(inputs)\n"
   ]
  },
  {
   "cell_type": "markdown",
   "metadata": {
    "colab_type": "text"
   },
   "source": [
    "You can now use this custom layer in-between a mask-generating layer (like `Embedding`)\n",
    "and a mask-consuming layer (like `LSTM`), and it will pass the mask along so that it\n",
    "reaches the mask-consuming layer."
   ]
  },
  {
   "cell_type": "code",
   "execution_count": 0,
   "metadata": {
    "colab_type": "code"
   },
   "outputs": [],
   "source": [
    "inputs = keras.Input(shape=(None,), dtype=\"int32\")\n",
    "x = layers.Embedding(input_dim=5000, output_dim=16, mask_zero=True)(inputs)\n",
    "x = MyActivation()(x)  # Will pass the mask along\n",
    "print(\"Mask found:\", x._keras_mask)\n",
    "outputs = layers.LSTM(32)(x)  # Will receive the mask\n",
    "\n",
    "model = keras.Model(inputs, outputs)"
   ]
  },
  {
   "cell_type": "markdown",
   "metadata": {
    "colab_type": "text"
   },
   "source": [
    "## Writing layers that need mask information\n",
    "\n",
    "Some layers are mask *consumers*: they accept a `mask` argument in `call` and use it to\n",
    "determine whether to skip certain time steps.\n",
    "\n",
    "To write such a layer, you can simply add a `mask=None` argument in your `call`\n",
    "signature. The mask associated with the inputs will be passed to your layer whenever\n",
    "it is available.\n",
    "\n",
    "Here's a simple example below: a layer that computes a softmax over the time dimension\n",
    "(axis 1) of an input sequence, while discarding masked timesteps."
   ]
  },
  {
   "cell_type": "code",
   "execution_count": 0,
   "metadata": {
    "colab_type": "code"
   },
   "outputs": [],
   "source": [
    "\n",
    "class TemporalSoftmax(keras.layers.Layer):\n",
    "    def call(self, inputs, mask=None):\n",
    "        broadcast_float_mask = tf.expand_dims(tf.cast(mask, \"float32\"), -1)\n",
    "        inputs_exp = tf.exp(inputs) * broadcast_float_mask\n",
    "        inputs_sum = tf.reduce_sum(inputs * broadcast_float_mask, axis=1, keepdims=True)\n",
    "        return inputs_exp / inputs_sum\n",
    "\n",
    "\n",
    "inputs = keras.Input(shape=(None,), dtype=\"int32\")\n",
    "x = layers.Embedding(input_dim=10, output_dim=32, mask_zero=True)(inputs)\n",
    "x = layers.Dense(1)(x)\n",
    "outputs = TemporalSoftmax()(x)\n",
    "\n",
    "model = keras.Model(inputs, outputs)\n",
    "y = model(np.random.randint(0, 10, size=(32, 100)), np.random.random((32, 100, 1)))"
   ]
  },
  {
   "cell_type": "markdown",
   "metadata": {
    "colab_type": "text"
   },
   "source": [
    "## Summary\n",
    "\n",
    "That is all you need to know about padding & masking in Keras. To recap:\n",
    "\n",
    "- \"Masking\" is how layers are able to know when to skip / ignore certain timesteps in\n",
    "sequence inputs.\n",
    "- Some layers are mask-generators: `Embedding` can generate a mask from input values\n",
    "(if `mask_zero=True`), and so can the `Masking` layer.\n",
    "- Some layers are mask-consumers: they expose a `mask` argument in their `__call__`\n",
    "method. This is the case for RNN layers.\n",
    "- In the Functional API and Sequential API, mask information is propagated\n",
    "automatically.\n",
    "- When using layers in a standalone way, you can pass the `mask` arguments to layers\n",
    "manually.\n",
    "- You can easily write layers that modify the current mask, that generate a new mask,\n",
    "or that consume the mask associated with the inputs."
   ]
  }
 ],
 "metadata": {
  "colab": {
   "collapsed_sections": [],
   "name": "understanding_masking_and_padding",
   "private_outputs": false,
   "provenance": [],
   "toc_visible": true
  },
  "kernelspec": {
   "display_name": "Python 3",
   "language": "python",
   "name": "python3"
  },
  "language_info": {
   "codemirror_mode": {
    "name": "ipython",
    "version": 3
   },
   "file_extension": ".py",
   "mimetype": "text/x-python",
   "name": "python",
   "nbconvert_exporter": "python",
   "pygments_lexer": "ipython3",
   "version": "3.8.8"
  }
 },
 "nbformat": 4,
 "nbformat_minor": 1
}
