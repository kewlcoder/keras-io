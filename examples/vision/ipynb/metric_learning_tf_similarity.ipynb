{
 "cells": [
  {
   "cell_type": "markdown",
   "metadata": {
    "colab_type": "text"
   },
   "source": [
    "# Metric learning for image similarity search using TensorFlow Similarity\n",
    "\n",
    "**Author:** [Owen Vallis](https://twitter.com/owenvallis)<br>\n",
    "**Date created:** 2021/09/30<br>\n",
    "**Last modified:** 2021/09/30<br>\n",
    "**Description:** Example of using similarity metric learning on CIFAR-10 images."
   ]
  },
  {
   "cell_type": "markdown",
   "metadata": {
    "colab_type": "text"
   },
   "source": [
    "## Overview\n",
    "\n",
    "This example is based on the\n",
    "[\"Metric learning for image similarity search\" example](https://keras.io/examples/vision/metric_learning/).\n",
    "We aim to use the same data set but implement the model using\n",
    "[TensorFlow Similarity](https://github.com/tensorflow/similarity).\n",
    "\n",
    "Metric learning aims to train models that can embed inputs into a\n",
    "high-dimensional space such that \"similar\" inputs are pulled closer to each\n",
    "other and \"dissimilar\" inputs are pushed farther apart. Once trained, these\n",
    "models can produce embeddings for downstream systems where such similarity is\n",
    "useful, for instance as a ranking signal for search or as a form of pretrained\n",
    "embedding model for another supervised problem.\n",
    "\n",
    "For a more detailed overview of metric learning, see:\n",
    "\n",
    "* [What is metric learning?](http://contrib.scikit-learn.org/metric-learn/introduction.html)\n",
    "* [\"Using crossentropy for metric learning\" tutorial](https://www.youtube.com/watch?v=Jb4Ewl5RzkI)"
   ]
  },
  {
   "cell_type": "markdown",
   "metadata": {
    "colab_type": "text"
   },
   "source": [
    "## Setup\n",
    "\n",
    "This tutorial will use the [TensorFlow Similarity](https://github.com/tensorflow/similarity) library\n",
    "to learn and evaluate the similarity embedding.\n",
    "TensorFlow Similarity provides components that:\n",
    "\n",
    "* Make training contrastive models simple and fast.\n",
    "* Make it easier to ensure that batches contain pairs of examples.\n",
    "* Enable the evaluation of the quality of the embedding."
   ]
  },
  {
   "cell_type": "code",
   "execution_count": 0,
   "metadata": {
    "colab_type": "code"
   },
   "outputs": [],
   "source": [
    "import random\n",
    "\n",
    "from matplotlib import pyplot as plt\n",
    "from mpl_toolkits import axes_grid1\n",
    "import numpy as np\n",
    "\n",
    "import tensorflow as tf\n",
    "from tensorflow import keras\n",
    "\n",
    "import tensorflow_similarity as tfsim\n",
    "\n",
    "\n",
    "tfsim.utils.tf_cap_memory()\n",
    "\n",
    "print(\"TensorFlow:\", tf.__version__)\n",
    "print(\"TensorFlow Similarity:\", tfsim.__version__)"
   ]
  },
  {
   "cell_type": "markdown",
   "metadata": {
    "colab_type": "text"
   },
   "source": [
    "## Dataset samplers\n",
    "\n",
    "We will be using the\n",
    "[CIFAR-10](https://www.tensorflow.org/datasets/catalog/cifar10)\n",
    "dataset for this tutorial.\n",
    "\n",
    "For a similarity model to learn efficiently, each batch must contains at least 2\n",
    "examples of each class.\n",
    "\n",
    "To make this easy, tf_similarity offers `Sampler` objects that enable you to set both\n",
    "the number of classes and the minimum number of examples of each class per\n",
    "batch.\n",
    "\n",
    "The train and validation datasets will be created using the\n",
    "`TFDatasetMultiShotMemorySampler` object. This creates a sampler that loads datasets\n",
    "from [TensorFlow Datasets](https://www.tensorflow.org/datasets) and yields\n",
    "batches containing a target number of classes and a target number of examples\n",
    "per class. Additionally, we can restrict the sampler to only yield the subset of\n",
    "classes defined in `class_list`, enabling us to train on a subset of the classes\n",
    "and then test how the embedding generalizes to the unseen classes. This can be\n",
    "useful when working on few-shot learning problems.\n",
    "\n",
    "The following cell creates a train_ds sample that:\n",
    "\n",
    "* Loads the CIFAR-10 dataset from TFDS and then takes the `examples_per_class_per_batch`.\n",
    "* Ensures the sampler restricts the classes to those defined in `class_list`.\n",
    "* Ensures each batch contains 10 different classes with 8 examples each.\n",
    "\n",
    "We also create a validation dataset in the same way, but we limit the total number of\n",
    "examples per class to 100 and the examples per class per batch is set to the\n",
    "default of 2."
   ]
  },
  {
   "cell_type": "code",
   "execution_count": 0,
   "metadata": {
    "colab_type": "code"
   },
   "outputs": [],
   "source": [
    "# This determines the number of classes used during training.\n",
    "# Here we are using all the classes.\n",
    "num_known_classes = 10\n",
    "class_list = random.sample(population=range(10), k=num_known_classes)\n",
    "\n",
    "classes_per_batch = 10\n",
    "# Passing multiple examples per class per batch ensures that each example has\n",
    "# multiple positive pairs. This can be useful when performing triplet mining or\n",
    "# when using losses like `MultiSimilarityLoss` or `CircleLoss` as these can\n",
    "# take a weighted mix of all the positive pairs. In general, more examples per\n",
    "# class will lead to more information for the positive pairs, while more classes\n",
    "# per batch will provide more varied information in the negative pairs. However,\n",
    "# the losses compute the pairwise distance between the examples in a batch so\n",
    "# the upper limit of the batch size is restricted by the memory.\n",
    "examples_per_class_per_batch = 8\n",
    "\n",
    "print(\n",
    "    \"Batch size is: \"\n",
    "    f\"{min(classes_per_batch, num_known_classes) * examples_per_class_per_batch}\"\n",
    ")\n",
    "\n",
    "print(\" Create Training Data \".center(34, \"#\"))\n",
    "train_ds = tfsim.samplers.TFDatasetMultiShotMemorySampler(\n",
    "    \"cifar10\",\n",
    "    classes_per_batch=min(classes_per_batch, num_known_classes),\n",
    "    splits=\"train\",\n",
    "    steps_per_epoch=4000,\n",
    "    examples_per_class_per_batch=examples_per_class_per_batch,\n",
    "    class_list=class_list,\n",
    ")\n",
    "\n",
    "print(\"\\n\" + \" Create Validation Data \".center(34, \"#\"))\n",
    "val_ds = tfsim.samplers.TFDatasetMultiShotMemorySampler(\n",
    "    \"cifar10\",\n",
    "    classes_per_batch=classes_per_batch,\n",
    "    splits=\"test\",\n",
    "    total_examples_per_class=100,\n",
    ")"
   ]
  },
  {
   "cell_type": "markdown",
   "metadata": {
    "colab_type": "text"
   },
   "source": [
    "## Visualize the dataset\n",
    "\n",
    "The samplers will shuffle the dataset, so we can get a sense of the dataset by\n",
    "plotting the first 25 images.\n",
    "\n",
    "The samplers provide a `get_slice(begin, size)` method that allows us to easily\n",
    "select a block of samples.\n",
    "\n",
    "Alternatively, we can use the `generate_batch()` method to yield a batch. This\n",
    "can allow us to check that a batch contains the expected number of classes and\n",
    "examples per class."
   ]
  },
  {
   "cell_type": "code",
   "execution_count": 0,
   "metadata": {
    "colab_type": "code"
   },
   "outputs": [],
   "source": [
    "num_cols = num_rows = 5\n",
    "# Get the first 25 examples.\n",
    "x_slice, y_slice = train_ds.get_slice(begin=0, size=num_cols * num_rows)\n",
    "\n",
    "fig = plt.figure(figsize=(6.0, 6.0))\n",
    "grid = axes_grid1.ImageGrid(fig, 111, nrows_ncols=(num_cols, num_rows), axes_pad=0.1)\n",
    "\n",
    "for ax, im, label in zip(grid, x_slice, y_slice):\n",
    "    ax.imshow(im)\n",
    "    ax.axis(\"off\")"
   ]
  },
  {
   "cell_type": "markdown",
   "metadata": {
    "colab_type": "text"
   },
   "source": [
    "## Embedding model\n",
    "\n",
    "Next we define a `SimilarityModel` using the Keras Functional API. The model\n",
    "is a standard convnet with the addition of a `MetricEmbedding` layer that\n",
    "applies L2 normalization. The metric embedding layer is helpful when using\n",
    "`Cosine` distance as we only care about the angle between the vectors.\n",
    "\n",
    "Additionally, the `SimilarityModel` provides a number of helper methods for:\n",
    "\n",
    "* Indexing embedded examples\n",
    "* Performing example lookups\n",
    "* Evaluating the classification\n",
    "* Evaluating the quality of the embedding space\n",
    "\n",
    "See the [TensorFlow Similarity documentation](https://github.com/tensorflow/similarity)\n",
    "for more details."
   ]
  },
  {
   "cell_type": "code",
   "execution_count": 0,
   "metadata": {
    "colab_type": "code"
   },
   "outputs": [],
   "source": [
    "embedding_size = 256\n",
    "\n",
    "inputs = keras.layers.Input((32, 32, 3))\n",
    "x = keras.layers.Rescaling(scale=1.0 / 255)(inputs)\n",
    "x = keras.layers.Conv2D(64, 3, activation=\"relu\")(x)\n",
    "x = keras.layers.BatchNormalization()(x)\n",
    "x = keras.layers.Conv2D(128, 3, activation=\"relu\")(x)\n",
    "x = keras.layers.BatchNormalization()(x)\n",
    "x = keras.layers.MaxPool2D((4, 4))(x)\n",
    "x = keras.layers.Conv2D(256, 3, activation=\"relu\")(x)\n",
    "x = keras.layers.BatchNormalization()(x)\n",
    "x = keras.layers.Conv2D(256, 3, activation=\"relu\")(x)\n",
    "x = keras.layers.GlobalMaxPool2D()(x)\n",
    "outputs = tfsim.layers.MetricEmbedding(embedding_size)(x)\n",
    "\n",
    "# building model\n",
    "model = tfsim.models.SimilarityModel(inputs, outputs)\n",
    "model.summary()"
   ]
  },
  {
   "cell_type": "markdown",
   "metadata": {
    "colab_type": "text"
   },
   "source": [
    "## Similarity loss\n",
    "\n",
    "The similarity loss expects batches containing at least 2 examples of each\n",
    "class, from which it computes the loss over the pairwise positive and negative\n",
    "distances. Here we are using `MultiSimilarityLoss()`\n",
    "([paper](ihttps://arxiv.org/abs/1904.06627)), one of several losses in\n",
    "[TensorFlow Similarity](https://github.com/tensorflow/similarity). This loss\n",
    "attempts to use all informative pairs in the batch, taking into account the\n",
    "self-similarity, positive-similarity, and the negative-similarity."
   ]
  },
  {
   "cell_type": "code",
   "execution_count": 0,
   "metadata": {
    "colab_type": "code"
   },
   "outputs": [],
   "source": [
    "epochs = 3\n",
    "learning_rate = 0.002\n",
    "val_steps = 50\n",
    "\n",
    "# init similarity loss\n",
    "loss = tfsim.losses.MultiSimilarityLoss()\n",
    "\n",
    "# compiling and training\n",
    "model.compile(\n",
    "    optimizer=keras.optimizers.Adam(learning_rate), loss=loss, steps_per_execution=10,\n",
    ")\n",
    "history = model.fit(\n",
    "    train_ds, epochs=epochs, validation_data=val_ds, validation_steps=val_steps\n",
    ")"
   ]
  },
  {
   "cell_type": "markdown",
   "metadata": {
    "colab_type": "text"
   },
   "source": [
    "## Indexing\n",
    "\n",
    "Now that we have trained our model, we can create an index of examples. Here we\n",
    "batch index the first 200 validation examples by passing the x and y to the index\n",
    "along with storing the image in the data parameter. The `x_index` values are\n",
    "embedded and then added to the index to make them searchable. The `y_index` and\n",
    "data parameters are optional but allow the user to associate metadata with the\n",
    "embedded example."
   ]
  },
  {
   "cell_type": "code",
   "execution_count": 0,
   "metadata": {
    "colab_type": "code"
   },
   "outputs": [],
   "source": [
    "x_index, y_index = val_ds.get_slice(begin=0, size=200)\n",
    "model.reset_index()\n",
    "model.index(x_index, y_index, data=x_index)"
   ]
  },
  {
   "cell_type": "markdown",
   "metadata": {
    "colab_type": "text"
   },
   "source": [
    "## Calibration\n",
    "\n",
    "Once the index is built, we can calibrate a distance threshold using a matching\n",
    "strategy and a calibration metric.\n",
    "\n",
    "Here we are searching for the optimal F1 score while using K=1 as our\n",
    "classifier. All matches at or below the calibrated threshold distance will be\n",
    "labeled as a Positive match between the query example and the label associated\n",
    "with the match result, while all matches above the threshold distance will be\n",
    "labeled as a Negative match.\n",
    "\n",
    "Additionally, we pass in extra metrics to compute as well. All values in the\n",
    "output are computed at the calibrated threshold.\n",
    "\n",
    "Finally, `model.calibrate()` returns a `CalibrationResults` object containing:\n",
    "\n",
    "* `\"cutpoints\"`: A Python dict mapping the cutpoint name to a dict containing the\n",
    "`ClassificationMetric` values associated with a particular distance threshold,\n",
    "e.g., `\"optimal\" : {\"acc\": 0.90, \"f1\": 0.92}`.\n",
    "* `\"thresholds\"`: A Python dict mapping `ClassificationMetric` names to a list\n",
    "containing the metric's value computed at each of the distance thresholds, e.g.,\n",
    "`{\"f1\": [0.99, 0.80], \"distance\": [0.0, 1.0]}`."
   ]
  },
  {
   "cell_type": "code",
   "execution_count": 0,
   "metadata": {
    "colab_type": "code"
   },
   "outputs": [],
   "source": [
    "x_train, y_train = train_ds.get_slice(begin=0, size=1000)\n",
    "calibration = model.calibrate(\n",
    "    x_train,\n",
    "    y_train,\n",
    "    calibration_metric=\"f1\",\n",
    "    matcher=\"match_nearest\",\n",
    "    extra_metrics=[\"precision\", \"recall\", \"binary_accuracy\"],\n",
    "    verbose=1,\n",
    ")"
   ]
  },
  {
   "cell_type": "markdown",
   "metadata": {
    "colab_type": "text"
   },
   "source": [
    "## Visualization\n",
    "\n",
    "It may be difficult to get a sense of the model quality from the metrics alone.\n",
    "A complementary approach is to manually inspect a set of query results to get a\n",
    "feel for the match quality.\n",
    "\n",
    "Here we take 10 validation examples and plot them with their 5 nearest\n",
    "neighbors and the distances to the query example. Looking at the results, we see\n",
    "that while they are imperfect they still represent meaningfully similar images,\n",
    "and that the model is able to find similar images irrespective of their pose or\n",
    "image illumination.\n",
    "\n",
    "We can also see that the model is very confident with certain images, resulting\n",
    "in very small distances between the query and the neighbors. Conversely, we see\n",
    "more mistakes in the class labels as the distances become larger. This is one of\n",
    "the reasons why calibration is critical for matching applications."
   ]
  },
  {
   "cell_type": "code",
   "execution_count": 0,
   "metadata": {
    "colab_type": "code"
   },
   "outputs": [],
   "source": [
    "num_neighbors = 5\n",
    "labels = [\n",
    "    \"Airplane\",\n",
    "    \"Automobile\",\n",
    "    \"Bird\",\n",
    "    \"Cat\",\n",
    "    \"Deer\",\n",
    "    \"Dog\",\n",
    "    \"Frog\",\n",
    "    \"Horse\",\n",
    "    \"Ship\",\n",
    "    \"Truck\",\n",
    "    \"Unknown\",\n",
    "]\n",
    "class_mapping = {c_id: c_lbl for c_id, c_lbl in zip(range(11), labels)}\n",
    "\n",
    "x_display, y_display = val_ds.get_slice(begin=200, size=10)\n",
    "# lookup nearest neighbors in the index\n",
    "nns = model.lookup(x_display, k=num_neighbors)\n",
    "\n",
    "# display\n",
    "for idx in np.argsort(y_display):\n",
    "    tfsim.visualization.viz_neigbors_imgs(\n",
    "        x_display[idx],\n",
    "        y_display[idx],\n",
    "        nns[idx],\n",
    "        class_mapping=class_mapping,\n",
    "        fig_size=(16, 2),\n",
    "    )"
   ]
  },
  {
   "cell_type": "markdown",
   "metadata": {
    "colab_type": "text"
   },
   "source": [
    "## Metrics\n",
    "\n",
    "We can also plot the extra metrics contained in the `CalibrationResults` to get\n",
    "a sense of the matching performance as the distance threshold increases.\n",
    "\n",
    "The following plots show the Precision, Recall, and F1 Score. We can see that\n",
    "the matching precision degrades as the distance increases, but that the\n",
    "percentage of the queries that we accept as positive matches (recall) grows\n",
    "faster up to the calibrated distance threshold."
   ]
  },
  {
   "cell_type": "code",
   "execution_count": 0,
   "metadata": {
    "colab_type": "code"
   },
   "outputs": [],
   "source": [
    "fig, (ax1, ax2) = plt.subplots(1, 2, figsize=(15, 5))\n",
    "x = calibration.thresholds[\"distance\"]\n",
    "\n",
    "ax1.plot(x, calibration.thresholds[\"precision\"], label=\"precision\")\n",
    "ax1.plot(x, calibration.thresholds[\"recall\"], label=\"recall\")\n",
    "ax1.plot(x, calibration.thresholds[\"f1\"], label=\"f1 score\")\n",
    "ax1.legend()\n",
    "ax1.set_title(\"Metric evolution as distance increase\")\n",
    "ax1.set_xlabel(\"Distance\")\n",
    "ax1.set_ylim((-0.05, 1.05))\n",
    "\n",
    "ax2.plot(calibration.thresholds[\"recall\"], calibration.thresholds[\"precision\"])\n",
    "ax2.set_title(\"Precision recall curve\")\n",
    "ax2.set_xlabel(\"Recall\")\n",
    "ax2.set_ylabel(\"Precision\")\n",
    "ax2.set_ylim((-0.05, 1.05))\n",
    "plt.show()"
   ]
  },
  {
   "cell_type": "markdown",
   "metadata": {
    "colab_type": "text"
   },
   "source": [
    "We can also take 100 examples for each class and plot the confusion matrix for\n",
    "each example and their nearest match. We also add an \"extra\" 10th class to\n",
    "represent the matches above the calibrated distance threshold.\n",
    "\n",
    "We can see that most of the errors are between the animal classes with an\n",
    "interesting number of confusions between Airplane and Bird. Additionally, we see\n",
    "that only a few of the 100 examples for each class returned matches outside of\n",
    "the calibrated distance threshold."
   ]
  },
  {
   "cell_type": "code",
   "execution_count": 0,
   "metadata": {
    "colab_type": "code"
   },
   "outputs": [],
   "source": [
    "cutpoint = \"optimal\"\n",
    "\n",
    "# This yields 100 examples for each class.\n",
    "# We defined this when we created the val_ds sampler.\n",
    "x_confusion, y_confusion = val_ds.get_slice(0, -1)\n",
    "\n",
    "matches = model.match(x_confusion, cutpoint=cutpoint, no_match_label=10)\n",
    "tfsim.visualization.confusion_matrix(\n",
    "    matches,\n",
    "    y_confusion,\n",
    "    labels=labels,\n",
    "    title=\"Confusion matrix for cutpoint:%s\" % cutpoint,\n",
    "    normalize=False,\n",
    ")"
   ]
  },
  {
   "cell_type": "markdown",
   "metadata": {
    "colab_type": "text"
   },
   "source": [
    "## No Match\n",
    "\n",
    "We can plot the examples outside of the calibrated threshold to see which images\n",
    "are not matching any indexed examples.\n",
    "\n",
    "This may provide insight into what other examples may need to be indexed or\n",
    "surface anomalous examples within the class."
   ]
  },
  {
   "cell_type": "code",
   "execution_count": 0,
   "metadata": {
    "colab_type": "code"
   },
   "outputs": [],
   "source": [
    "idx_no_match = np.where(np.array(matches) == 10)\n",
    "no_match_queries = x_confusion[idx_no_match]\n",
    "if len(no_match_queries):\n",
    "    plt.imshow(no_match_queries[0])\n",
    "else:\n",
    "    print(\"All queries have a match below the distance threshold.\")"
   ]
  },
  {
   "cell_type": "markdown",
   "metadata": {
    "colab_type": "text"
   },
   "source": [
    "## Visualize clusters\n",
    "\n",
    "One of the best ways to quickly get a sense of the quality of how the model is\n",
    "doing and understand it's short comings is to project the embedding into a 2D\n",
    "space.\n",
    "\n",
    "This allows us to inspect clusters of images and understand which classes are\n",
    "entangled."
   ]
  },
  {
   "cell_type": "code",
   "execution_count": 0,
   "metadata": {
    "colab_type": "code"
   },
   "outputs": [],
   "source": [
    "# Each class in val_ds was restricted to 100 examples.\n",
    "num_examples_to_clusters = 1000\n",
    "thumb_size = 96\n",
    "plot_size = 800\n",
    "vx, vy = val_ds.get_slice(0, num_examples_to_clusters)\n",
    "\n",
    "# Uncomment to run the interactive projector.\n",
    "# tfsim.visualization.projector(\n",
    "#     model.predict(vx),\n",
    "#     labels=vy,\n",
    "#     images=vx,\n",
    "#     class_mapping=class_mapping,\n",
    "#     image_size=thumb_size,\n",
    "#     plot_size=plot_size,\n",
    "# )"
   ]
  }
 ],
 "metadata": {
  "colab": {
   "collapsed_sections": [],
   "name": "metric_learning_tf_similarity",
   "private_outputs": false,
   "provenance": [],
   "toc_visible": true
  },
  "kernelspec": {
   "display_name": "Python 3",
   "language": "python",
   "name": "python3"
  },
  "language_info": {
   "codemirror_mode": {
    "name": "ipython",
    "version": 3
   },
   "file_extension": ".py",
   "mimetype": "text/x-python",
   "name": "python",
   "nbconvert_exporter": "python",
   "pygments_lexer": "ipython3",
   "version": "3.7.0"
  }
 },
 "nbformat": 4,
 "nbformat_minor": 0
}